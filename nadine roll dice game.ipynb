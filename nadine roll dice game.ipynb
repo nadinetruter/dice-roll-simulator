{
 "cells": [
  {
   "cell_type": "code",
   "execution_count": null,
   "metadata": {},
   "outputs": [
    {
     "name": "stdout",
     "output_type": "stream",
     "text": [
      "Welcome to my Dice Rolling Game!\n",
      "Roll a double and WIN!!\n",
      "Lets play! Enter yes to play or no to quit.yes\n",
      "Dice is rolling...\n",
      "Your values are:\n",
      "Dice1 = 4 \n",
      "Dice2 = 5\n",
      "Keep on trying...\n",
      "Lets play! Enter yes to play or no to quit.yes\n",
      "Dice is rolling...\n",
      "Your values are:\n",
      "Dice1 = 1 \n",
      "Dice2 = 4\n",
      "Keep on trying...\n",
      "Lets play! Enter yes to play or no to quit.yes\n",
      "Dice is rolling...\n",
      "Your values are:\n",
      "Dice1 = 3 \n",
      "Dice2 = 3\n",
      "WINNER!!, you rolled a double!\n"
     ]
    }
   ],
   "source": [
    "import random # allow to roll dice with random numbers each time\n",
    "import time  # pause code in certain places\n",
    "\n",
    "print(\"Welcome to my Dice Rolling Game!\")  #prints string\n",
    "print(\"Roll a double and WIN!!\")           #prints string\n",
    "\n",
    "roll_dice = input(\"Lets play! Enter yes to play or no to quit.\").lower() #prompts user to play or not\n",
    "\n",
    "while roll_dice == \"yes\":       #while loop so that the game is continuous if the player carries on playing\n",
    "    print(\"Dice is rolling...\") #prints string\n",
    "    time.sleep(1)               #game is pausing for 1 second to make like its rolling the dice\n",
    "    \n",
    "    dice1 = random.randint(1,6) #calling random so that dice will be rolled randomly for the integers in the range of 1-6\n",
    "    dice2 = random.randint(1,6) #calling random so that dice will be rolled randomly for the integers in the range of 1-6\n",
    "    print(\"Your values are:\")   #prints string\n",
    "    print(\"Dice1 =\",dice1,\"\\nDice2 =\",dice2) #prints the value of both dices\n",
    "    \n",
    "    if dice1 == dice2:                         #if values of both dice are equal\n",
    "        print(\"WINNER!!, you rolled a double!\")#game will print out string\n",
    "    else:                                      #if the values of the dice aren't equal\n",
    "        print(\"Keep on trying...\")             #game will print out string\n",
    "    \n",
    "    roll_dice = input(\"Lets play! Enter yes to play or no to quit.\").lower() #once dice is rolled, game prompts player again"
   ]
  },
  {
   "cell_type": "code",
   "execution_count": null,
   "metadata": {},
   "outputs": [],
   "source": []
  }
 ],
 "metadata": {
  "kernelspec": {
   "display_name": "Python 3",
   "language": "python",
   "name": "python3"
  },
  "language_info": {
   "codemirror_mode": {
    "name": "ipython",
    "version": 3
   },
   "file_extension": ".py",
   "mimetype": "text/x-python",
   "name": "python",
   "nbconvert_exporter": "python",
   "pygments_lexer": "ipython3",
   "version": "3.7.6"
  }
 },
 "nbformat": 4,
 "nbformat_minor": 4
}
